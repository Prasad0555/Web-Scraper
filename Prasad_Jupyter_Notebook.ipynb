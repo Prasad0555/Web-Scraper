{
 "cells": [
  {
   "cell_type": "code",
   "execution_count": null,
   "id": "04f84064",
   "metadata": {},
   "outputs": [],
   "source": []
  },
  {
   "cell_type": "code",
   "execution_count": 10,
   "id": "c2d30cfc",
   "metadata": {},
   "outputs": [
    {
     "name": "stdout",
     "output_type": "stream",
     "text": [
      "Requirement already satisfied: selenium in c:\\users\\mylappy\\anaconda3\\lib\\site-packages (3.141.0)"
     ]
    },
    {
     "name": "stderr",
     "output_type": "stream",
     "text": [
      "ERROR: pip's dependency resolver does not currently take into account all the packages that are installed. This behaviour is the source of the following dependency conflicts.\n",
      "textract 1.6.5 requires beautifulsoup4~=4.8.0, but you have beautifulsoup4 4.12.2 which is incompatible.\n",
      "textract 1.6.5 requires six~=1.12.0, but you have six 1.16.0 which is incompatible.\n"
     ]
    },
    {
     "name": "stdout",
     "output_type": "stream",
     "text": [
      "\n",
      "Requirement already satisfied: beautifulsoup4 in c:\\users\\mylappy\\anaconda3\\lib\\site-packages (4.8.2)\n",
      "Collecting markdownify\n",
      "  Downloading markdownify-0.11.6-py3-none-any.whl (16 kB)\n",
      "Requirement already satisfied: urllib3 in c:\\users\\mylappy\\anaconda3\\lib\\site-packages (from selenium) (1.26.11)\n",
      "Requirement already satisfied: soupsieve>=1.2 in c:\\users\\mylappy\\anaconda3\\lib\\site-packages (from beautifulsoup4) (2.3.1)\n",
      "Requirement already satisfied: six<2,>=1.15 in c:\\users\\mylappy\\anaconda3\\lib\\site-packages (from markdownify) (1.16.0)\n",
      "Collecting beautifulsoup4\n",
      "  Downloading beautifulsoup4-4.12.2-py3-none-any.whl (142 kB)\n",
      "     ------------------------------------ 143.0/143.0 kB 340.4 kB/s eta 0:00:00\n",
      "Installing collected packages: beautifulsoup4, markdownify\n",
      "  Attempting uninstall: beautifulsoup4\n",
      "    Found existing installation: beautifulsoup4 4.8.2\n",
      "    Uninstalling beautifulsoup4-4.8.2:\n",
      "      Successfully uninstalled beautifulsoup4-4.8.2\n",
      "Successfully installed beautifulsoup4-4.12.2 markdownify-0.11.6\n"
     ]
    }
   ],
   "source": [
    "!pip install selenium beautifulsoup4 markdownify"
   ]
  },
  {
   "cell_type": "code",
   "execution_count": 1,
   "id": "1b91d59e",
   "metadata": {},
   "outputs": [
    {
     "name": "stdout",
     "output_type": "stream",
     "text": [
      "Data scraped and saved to 'scraped_data.json'\n"
     ]
    }
   ],
   "source": [
    "from bs4 import BeautifulSoup\n",
    "from selenium import webdriver\n",
    "from selenium.webdriver.chrome.options import Options\n",
    "import pandas as pd\n",
    "import json\n",
    "import markdownify\n",
    "\n",
    "class Web_Scraping():\n",
    "    def scraping(self):\n",
    "        # Create lists to store the data\n",
    "        data_list = []\n",
    "\n",
    "        # Configure Chrome options\n",
    "        options = Options()\n",
    "        options.add_argument(\"--headless\")  # Run Chrome in headless mode (no GUI)\n",
    "        options.add_argument(\"--start-maximized\")  # Maximize the browser window\n",
    "\n",
    "        # Initialize the web driver\n",
    "        driver = webdriver.Chrome(options=options)\n",
    "\n",
    "        # Loop until no more pages are found\n",
    "        i = 1\n",
    "        while True:\n",
    "            url = f\"https://www.barelaw.in/indian-courts-2/?p={i}\"\n",
    "            driver.get(url)\n",
    "\n",
    "            # Wait for page to load (you may need to adjust the waiting time)\n",
    "            driver.implicitly_wait(10)  # Wait for up to 10 seconds for elements to load\n",
    "\n",
    "            # Get page source after waiting\n",
    "            page_source = driver.page_source\n",
    "\n",
    "            # Use BeautifulSoup to parse the page source\n",
    "            soup = BeautifulSoup(page_source, \"html.parser\")\n",
    "\n",
    "            # Check if there is no content on the current page, indicating the end of pagination\n",
    "            if not soup.select('.size-normal'):\n",
    "                break\n",
    "\n",
    "            # Extract titles and content\n",
    "            title_elements = soup.select('.size-normal')\n",
    "            content_elements = soup.select('#wi-content p')\n",
    "\n",
    "            # Convert HTML tables to Markdown\n",
    "            table_elements = soup.select('#wi-content table')\n",
    "            for table in table_elements:\n",
    "                markdown_table = markdownify.markdownify(str(table))\n",
    "                content_elements.append(markdown_table)\n",
    "\n",
    "            # Combine titles and content into a dictionary\n",
    "            page_data = {\n",
    "                \"title\": [title.text.strip() for title in title_elements],\n",
    "                \"content\": [content.text.strip() for content in content_elements]\n",
    "            }\n",
    "\n",
    "            # Append the data to the list\n",
    "            data_list.append(page_data)\n",
    "\n",
    "            i += 1\n",
    "\n",
    "        # Close the web driver\n",
    "        driver.quit()\n",
    "\n",
    "        # Save the scraped data to a JSON file\n",
    "        with open(\"scraped_data.json\", \"w\") as json_file:\n",
    "            json.dump(data_list, json_file, indent=4)\n",
    "            \n",
    "        print(\"Data scraped and saved to 'scraped_data.json'\")\n",
    "        return \"scrapping successful\"\n",
    "    \n",
    "if __name__ == \"__main__\":\n",
    "    process = Web_Scraping()\n",
    "    process.scraping()"
   ]
  },
  {
   "cell_type": "code",
   "execution_count": null,
   "id": "bb83e9c3",
   "metadata": {},
   "outputs": [],
   "source": []
  }
 ],
 "metadata": {
  "kernelspec": {
   "display_name": "Python 3 (ipykernel)",
   "language": "python",
   "name": "python3"
  },
  "language_info": {
   "codemirror_mode": {
    "name": "ipython",
    "version": 3
   },
   "file_extension": ".py",
   "mimetype": "text/x-python",
   "name": "python",
   "nbconvert_exporter": "python",
   "pygments_lexer": "ipython3",
   "version": "3.9.7"
  }
 },
 "nbformat": 4,
 "nbformat_minor": 5
}
